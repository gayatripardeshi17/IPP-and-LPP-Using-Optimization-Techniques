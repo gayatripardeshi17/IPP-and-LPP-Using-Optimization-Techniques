{
  "nbformat": 4,
  "nbformat_minor": 0,
  "metadata": {
    "colab": {
      "provenance": []
    },
    "kernelspec": {
      "name": "python3",
      "display_name": "Python 3"
    },
    "language_info": {
      "name": "python"
    }
  },
  "cells": [
    {
      "cell_type": "code",
      "execution_count": 4,
      "metadata": {
        "colab": {
          "base_uri": "https://localhost:8080/"
        },
        "id": "PdVTN3xz189d",
        "outputId": "b9d942a1-e663-4cfc-b495-7a1f401575e9"
      },
      "outputs": [
        {
          "output_type": "stream",
          "name": "stdout",
          "text": [
            "Collecting pulp\n",
            "  Downloading PuLP-2.8.0-py3-none-any.whl (17.7 MB)\n",
            "\u001b[2K     \u001b[90m━━━━━━━━━━━━━━━━━━━━━━━━━━━━━━━━━━━━━━━━\u001b[0m \u001b[32m17.7/17.7 MB\u001b[0m \u001b[31m30.4 MB/s\u001b[0m eta \u001b[36m0:00:00\u001b[0m\n",
            "\u001b[?25hInstalling collected packages: pulp\n",
            "Successfully installed pulp-2.8.0\n"
          ]
        }
      ],
      "source": [
        "!pip install pulp"
      ]
    },
    {
      "cell_type": "code",
      "source": [
        "#GAYATRI_PARDESHI_C235_Q1\n",
        "from pulp import *\n",
        "\n",
        "# Create a maximization problem\n",
        "prob = LpProblem(\"Maximize_Z\", LpMaximize)\n",
        "\n",
        "# Define decision variables\n",
        "X1 = LpVariable(\"X1\", lowBound=0, cat='Integer')\n",
        "X2 = LpVariable(\"X2\", lowBound=0, cat='Integer')\n",
        "X3 = LpVariable(\"X3\", lowBound=0, cat='Integer')\n",
        "X4 = LpVariable(\"X4\", lowBound=0, cat='Integer')\n",
        "X5 = LpVariable(\"X5\", lowBound=0, cat='Integer')\n",
        "\n",
        "# Objective function\n",
        "prob += 18*X1 + 28*X2 + 6*X3 + 11*X4 + 12*X5, \"Objective\"\n",
        "\n",
        "# Constraints\n",
        "prob += 4*X1 + 3*X2 + X3 + 3*X4 + 2*X5 <= 300\n",
        "prob += X1 + 3*X2 + X3 + X4 <= 160\n",
        "prob += 1.5*X1 + 2*X2 + 0.5*X4 + 0.5*X5 <= 150\n",
        "prob += X1 <= 20\n",
        "prob += X2 <= 50\n",
        "prob += X3 <= 45\n",
        "prob += X4 <= 70\n",
        "prob += X5 <= 40\n",
        "\n",
        "# Solve the problem\n",
        "prob.solve()\n",
        "\n",
        "# Print the status of the solution\n",
        "print(\"Status:\", LpStatus[prob.status])\n",
        "\n",
        "# Print the optimal values of the decision variables\n",
        "print(\"Optimal values:\")\n",
        "for v in prob.variables():\n",
        "    print(v.name, \"=\", v.varValue)\n",
        "\n",
        "# Print the optimal value of the objective function\n",
        "print(\"Optimal Z =\",value(prob.objective))"
      ],
      "metadata": {
        "colab": {
          "base_uri": "https://localhost:8080/"
        },
        "id": "4gWt-KeM3AmV",
        "outputId": "08949898-da91-4079-8213-875c9235ae57"
      },
      "execution_count": 7,
      "outputs": [
        {
          "output_type": "stream",
          "name": "stdout",
          "text": [
            "Status: Optimal\n",
            "Optimal values:\n",
            "X1 = 20.0\n",
            "X2 = 46.0\n",
            "X3 = 2.0\n",
            "X4 = 0.0\n",
            "X5 = 40.0\n",
            "Optimal Z = 2140.0\n"
          ]
        }
      ]
    },
    {
      "cell_type": "code",
      "source": [
        "#GAYATRI_PARDESHI_C235_Q2\n",
        "import numpy as np\n",
        "from scipy.optimize import linprog\n",
        "\n",
        "# Objective coefficients\n",
        "c = [12, 12, 15, 24, 22, 23]\n",
        "\n",
        "# Inequality constraints matrix\n",
        "A = [[1, 1, 1, 0, 0, 0],\n",
        "     [0, 0, 0, 1, 1, 1]]\n",
        "\n",
        "# Inequality constraints vector\n",
        "b = [400, 250]\n",
        "\n",
        "# Equality constraints matrix\n",
        "A_eq = [[1, 0, 0, 1, 0, 0],\n",
        "        [0, 1, 0, 0, 0, 1],\n",
        "        [0, 0, 1, 0, 0, 1]]\n",
        "\n",
        "# Equality constraints vector\n",
        "b_eq = [200, 100, 250]\n",
        "\n",
        "# Bounds for variables\n",
        "bounds = [(0, None)] * 6\n",
        "\n",
        "# Solve the LP problem\n",
        "res = linprog(c, A_ub=A, b_ub=b, A_eq=A_eq, b_eq=b_eq, bounds=bounds, method='highs')\n",
        "\n",
        "# Print the status of the solution\n",
        "print(\"Status:\", res.message)\n",
        "\n",
        "# Print the optimal values of the decision variables\n",
        "print(\"Optimal values:\")\n",
        "for i, val in enumerate(res.x):\n",
        "    print(f\"X{i+1} =\", int(val))\n",
        "\n",
        "# Print the optimal value of the objective function\n",
        "print(\"Optimal Z =\", res.fun)"
      ],
      "metadata": {
        "colab": {
          "base_uri": "https://localhost:8080/"
        },
        "id": "jx4Q3nEC3AsA",
        "outputId": "33ac4295-284b-40f1-f4c9-2c789c6803f1"
      },
      "execution_count": 9,
      "outputs": [
        {
          "output_type": "stream",
          "name": "stdout",
          "text": [
            "Status: Optimization terminated successfully. (HiGHS Status 7: Optimal)\n",
            "Optimal values:\n",
            "X1 = 200\n",
            "X2 = 0\n",
            "X3 = 150\n",
            "X4 = 0\n",
            "X5 = 0\n",
            "X6 = 100\n",
            "Optimal Z = 6950.0\n"
          ]
        }
      ]
    },
    {
      "cell_type": "code",
      "source": [
        "!pip install ortools\n"
      ],
      "metadata": {
        "colab": {
          "base_uri": "https://localhost:8080/"
        },
        "id": "VSH5fNOR72AX",
        "outputId": "d2dcd5ac-9dbb-495c-e2c9-ff5106bf2642"
      },
      "execution_count": 10,
      "outputs": [
        {
          "output_type": "stream",
          "name": "stdout",
          "text": [
            "Collecting ortools\n",
            "  Downloading ortools-9.8.3296-cp310-cp310-manylinux_2_17_x86_64.manylinux2014_x86_64.whl (22.9 MB)\n",
            "\u001b[2K     \u001b[90m━━━━━━━━━━━━━━━━━━━━━━━━━━━━━━━━━━━━━━━━\u001b[0m \u001b[32m22.9/22.9 MB\u001b[0m \u001b[31m26.6 MB/s\u001b[0m eta \u001b[36m0:00:00\u001b[0m\n",
            "\u001b[?25hCollecting absl-py>=2.0.0 (from ortools)\n",
            "  Downloading absl_py-2.1.0-py3-none-any.whl (133 kB)\n",
            "\u001b[2K     \u001b[90m━━━━━━━━━━━━━━━━━━━━━━━━━━━━━━━━━━━━━━━━\u001b[0m \u001b[32m133.7/133.7 kB\u001b[0m \u001b[31m14.2 MB/s\u001b[0m eta \u001b[36m0:00:00\u001b[0m\n",
            "\u001b[?25hRequirement already satisfied: numpy>=1.13.3 in /usr/local/lib/python3.10/dist-packages (from ortools) (1.25.2)\n",
            "Collecting pandas>=2.0.0 (from ortools)\n",
            "  Downloading pandas-2.2.1-cp310-cp310-manylinux_2_17_x86_64.manylinux2014_x86_64.whl (13.0 MB)\n",
            "\u001b[2K     \u001b[90m━━━━━━━━━━━━━━━━━━━━━━━━━━━━━━━━━━━━━━━━\u001b[0m \u001b[32m13.0/13.0 MB\u001b[0m \u001b[31m48.2 MB/s\u001b[0m eta \u001b[36m0:00:00\u001b[0m\n",
            "\u001b[?25hCollecting protobuf>=4.25.0 (from ortools)\n",
            "  Downloading protobuf-4.25.3-cp37-abi3-manylinux2014_x86_64.whl (294 kB)\n",
            "\u001b[2K     \u001b[90m━━━━━━━━━━━━━━━━━━━━━━━━━━━━━━━━━━━━━━━━\u001b[0m \u001b[32m294.6/294.6 kB\u001b[0m \u001b[31m27.3 MB/s\u001b[0m eta \u001b[36m0:00:00\u001b[0m\n",
            "\u001b[?25hRequirement already satisfied: python-dateutil>=2.8.2 in /usr/local/lib/python3.10/dist-packages (from pandas>=2.0.0->ortools) (2.8.2)\n",
            "Requirement already satisfied: pytz>=2020.1 in /usr/local/lib/python3.10/dist-packages (from pandas>=2.0.0->ortools) (2023.4)\n",
            "Collecting tzdata>=2022.7 (from pandas>=2.0.0->ortools)\n",
            "  Downloading tzdata-2024.1-py2.py3-none-any.whl (345 kB)\n",
            "\u001b[2K     \u001b[90m━━━━━━━━━━━━━━━━━━━━━━━━━━━━━━━━━━━━━━━━\u001b[0m \u001b[32m345.4/345.4 kB\u001b[0m \u001b[31m29.3 MB/s\u001b[0m eta \u001b[36m0:00:00\u001b[0m\n",
            "\u001b[?25hRequirement already satisfied: six>=1.5 in /usr/local/lib/python3.10/dist-packages (from python-dateutil>=2.8.2->pandas>=2.0.0->ortools) (1.16.0)\n",
            "Installing collected packages: tzdata, protobuf, absl-py, pandas, ortools\n",
            "  Attempting uninstall: protobuf\n",
            "    Found existing installation: protobuf 3.20.3\n",
            "    Uninstalling protobuf-3.20.3:\n",
            "      Successfully uninstalled protobuf-3.20.3\n",
            "  Attempting uninstall: absl-py\n",
            "    Found existing installation: absl-py 1.4.0\n",
            "    Uninstalling absl-py-1.4.0:\n",
            "      Successfully uninstalled absl-py-1.4.0\n",
            "  Attempting uninstall: pandas\n",
            "    Found existing installation: pandas 1.5.3\n",
            "    Uninstalling pandas-1.5.3:\n",
            "      Successfully uninstalled pandas-1.5.3\n",
            "\u001b[31mERROR: pip's dependency resolver does not currently take into account all the packages that are installed. This behaviour is the source of the following dependency conflicts.\n",
            "bigframes 0.21.0 requires pandas<2.1.4,>=1.5.0, but you have pandas 2.2.1 which is incompatible.\n",
            "google-colab 1.0.0 requires pandas==1.5.3, but you have pandas 2.2.1 which is incompatible.\n",
            "tensorflow-metadata 1.14.0 requires absl-py<2.0.0,>=0.9, but you have absl-py 2.1.0 which is incompatible.\n",
            "tensorflow-metadata 1.14.0 requires protobuf<4.21,>=3.20.3, but you have protobuf 4.25.3 which is incompatible.\u001b[0m\u001b[31m\n",
            "\u001b[0mSuccessfully installed absl-py-2.1.0 ortools-9.8.3296 pandas-2.2.1 protobuf-4.25.3 tzdata-2024.1\n"
          ]
        }
      ]
    },
    {
      "cell_type": "code",
      "source": [
        "#GAYATRI_PARDESHI_C235_Q2\n",
        "from ortools.linear_solver import pywraplp\n",
        "# Create the solver\n",
        "solver = pywraplp.Solver.CreateSolver('SCIP')\n",
        "# Define variables\n",
        "X1 = solver.IntVar(0, solver.infinity(), 'X1')\n",
        "X2 = solver.IntVar(0, solver.infinity(), 'X2')\n",
        "# Define the objective function\n",
        "objective = solver.Maximize(8 * X1 + 16 * X2)\n",
        "\n",
        "# Define constraints\n",
        "constraint1 = solver.Constraint(-solver.infinity(), 200)\n",
        "constraint1.SetCoefficient(X1, 1)\n",
        "constraint1.SetCoefficient(X2, 1)\n",
        "\n",
        "constraint2 = solver.Constraint(-solver.infinity(), 125)\n",
        "constraint2.SetCoefficient(X2, 1)\n",
        "\n",
        "constraint3 = solver.Constraint(-solver.infinity(), 900)\n",
        "constraint3.SetCoefficient(X1, 3)\n",
        "constraint3.SetCoefficient(X2, 6)\n",
        "\n",
        "# Solve the problem\n",
        "status = solver.Solve()\n",
        "\n",
        "# Check if the problem has a feasible solution\n",
        "if status == pywraplp.Solver.OPTIMAL:\n",
        "    print('Optimal Solution:')\n",
        "    print('Objective value =', solver.Objective().Value())\n",
        "    print('X1 =', X1.solution_value())\n",
        "    print('X2 =', X2.solution_value())\n",
        "else:\n",
        "    print('The problem does not have an optimal solution.')"
      ],
      "metadata": {
        "colab": {
          "base_uri": "https://localhost:8080/"
        },
        "id": "Hm3cVsRE3Au9",
        "outputId": "dde00478-6dbb-46b4-db31-4aebc98d260f"
      },
      "execution_count": 12,
      "outputs": [
        {
          "output_type": "stream",
          "name": "stdout",
          "text": [
            "Optimal Solution:\n",
            "Objective value = 2400.0\n",
            "X1 = 50.0\n",
            "X2 = 125.0\n"
          ]
        }
      ]
    },
    {
      "cell_type": "code",
      "source": [],
      "metadata": {
        "id": "F0Og_cTi7zjA"
      },
      "execution_count": null,
      "outputs": []
    },
    {
      "cell_type": "code",
      "source": [],
      "metadata": {
        "id": "d2j0IvU77zl9"
      },
      "execution_count": null,
      "outputs": []
    },
    {
      "cell_type": "code",
      "source": [],
      "metadata": {
        "id": "uulHGwNy7zol"
      },
      "execution_count": null,
      "outputs": []
    }
  ]
}